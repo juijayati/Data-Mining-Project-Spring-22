{
 "cells": [
  {
   "cell_type": "code",
   "execution_count": 6,
   "metadata": {},
   "outputs": [],
   "source": [
    "from metapub import PubMedFetcher\n",
    "from constants import pubtator_input, pubtator_output\n",
    "fetch = PubMedFetcher()\n",
    "\n",
    "query = \"wound healing\"\n",
    "pmids = fetch.pmids_for_query(query, retmax=1000000)\n",
    "\n",
    "len(pmids)\n",
    "\n",
    "with open(pubtator_input, 'w') as f:\n",
    "    for pmid in pmids:\n",
    "        f.write(pmid.strip() + \"\\n\")\n",
    "f.close()\n",
    "\n"
   ]
  }
 ],
 "metadata": {
  "interpreter": {
   "hash": "c5214fca341a06958c00eb23aaf4bb7d76936d2d907e33d81e8b276b51af2502"
  },
  "kernelspec": {
   "display_name": "venv",
   "language": "python",
   "name": "python3"
  },
  "language_info": {
   "codemirror_mode": {
    "name": "ipython",
    "version": 3
   },
   "file_extension": ".py",
   "mimetype": "text/x-python",
   "name": "python",
   "nbconvert_exporter": "python",
   "pygments_lexer": "ipython3",
   "version": "3.9.7"
  },
  "orig_nbformat": 4
 },
 "nbformat": 4,
 "nbformat_minor": 2
}
