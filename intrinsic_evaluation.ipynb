{
 "cells": [
  {
   "cell_type": "code",
   "execution_count": 1,
   "metadata": {},
   "outputs": [],
   "source": [
    "import pandas as pd\n",
    "import numpy as np\n",
    "from utils import extract_gene_symbol\n",
    "all_genes = []\n",
    "with open(\"./GeneLists/all_genes.txt\",\"r\") as f:\n",
    "    all_genes = f.readlines()\n",
    "f.close()\n",
    "all_genes = [text.strip() for text in all_genes]\n"
   ]
  },
  {
   "cell_type": "code",
   "execution_count": 3,
   "metadata": {},
   "outputs": [],
   "source": [
    "import random\n",
    "random.seed(1234)\n",
    "def process_msigdb_data_file(filename, all_genes):\n",
    "    data = pd.read_csv(filename, sep = \"\\t\")\n",
    "    for index, row in data.iterrows():\n",
    "        if row['num_of_genes'] <= 50:\n",
    "            pos_genes = row['pos_rel_genes'].split(\",\")\n",
    "            pos_genes = [\"Gene_\"+ gene for gene in pos_genes]\n",
    "            neg_genes = row['neg_rel_genes'].split(\",\")\n",
    "            neg_genes = [\"Gene_\"+ gene for gene in neg_genes]\n",
    "            pos_genes = np.intersect1d(all_genes, pos_genes)\n",
    "            neg_genes = np.intersect1d(all_genes, neg_genes)\n",
    "            n = min(len(pos_genes), len(neg_genes))\n",
    "            data.iloc[index, 1] = n\n",
    "            data.iloc[index, 2] = \",\".join(random.sample(set(pos_genes), n))\n",
    "            data.iloc[index, 3] = \",\".join(random.sample(set(neg_genes), n))\n",
    "    return data\n"
   ]
  },
  {
   "cell_type": "code",
   "execution_count": null,
   "metadata": {},
   "outputs": [],
   "source": [
    "# process msigdb dataset to fit our gene tags\n",
    "data = process_msigdb_data_file(\"./Datasets/c2.all.v6.2.entrez_term-gene_dataset.tsv\",all_genes)\n",
    "data = data[(data.num_of_genes <= 50) & (data.num_of_genes >= 10)]\n",
    "print(data.shape)\n",
    "print(data.head())\n",
    "data.to_csv(\"./Datasets/c2.all.v6.2.entrez_term-gene_dataset.tsv\", index=False, sep =\"\\t\")"
   ]
  },
  {
   "cell_type": "code",
   "execution_count": 80,
   "metadata": {},
   "outputs": [
    {
     "name": "stderr",
     "output_type": "stream",
     "text": [
      "C:\\Users\\jaj146\\AppData\\Local\\Temp\\ipykernel_30880\\231107932.py:15: DeprecationWarning: Sampling from a set deprecated\n",
      "since Python 3.9 and will be removed in a subsequent version.\n",
      "  data.iloc[index, 2] = \",\".join(random.sample(set(pos_genes), n))\n",
      "C:\\Users\\jaj146\\AppData\\Local\\Temp\\ipykernel_30880\\231107932.py:16: DeprecationWarning: Sampling from a set deprecated\n",
      "since Python 3.9 and will be removed in a subsequent version.\n",
      "  data.iloc[index, 3] = \",\".join(random.sample(set(neg_genes), n))\n"
     ]
    },
    {
     "name": "stdout",
     "output_type": "stream",
     "text": [
      "(141, 4)\n",
      "            id  num_of_genes  \\\n",
      "1    GNF2_SELL            10   \n",
      "4    GNF2_MCL1            17   \n",
      "16   GNF2_CD97            13   \n",
      "17  MODULE_329            16   \n",
      "18  GNF2_CKS1B            12   \n",
      "\n",
      "                                        pos_rel_genes  \\\n",
      "1   Gene_834,Gene_4067,Gene_5062,Gene_4615,Gene_92...   \n",
      "4   Gene_54918,Gene_5791,Gene_3689,Gene_6402,Gene_...   \n",
      "16  Gene_3716,Gene_3587,Gene_5788,Gene_101,Gene_36...   \n",
      "17  Gene_8048,Gene_2702,Gene_2314,Gene_59,Gene_800...   \n",
      "18  Gene_55143,Gene_890,Gene_5901,Gene_3832,Gene_2...   \n",
      "\n",
      "                                        neg_rel_genes  \n",
      "1   Gene_4738,Gene_10472,Gene_7444,Gene_25932,Gene...  \n",
      "4   Gene_214,Gene_3918,Gene_5756,Gene_84666,Gene_6...  \n",
      "16  Gene_8692,Gene_8111,Gene_623,Gene_2737,Gene_38...  \n",
      "17  Gene_636,Gene_1910,Gene_10551,Gene_1647,Gene_1...  \n",
      "18  Gene_390,Gene_26762,Gene_6657,Gene_1896,Gene_5...  \n"
     ]
    }
   ],
   "source": [
    "# process msigdb dataset to fit our gene tags\n",
    "data = process_msigdb_data_file(\"./Datasets/c4.all.v6.2.entrez_term-gene_dataset.tsv\",all_genes)\n",
    "data = data[(data.num_of_genes <= 50) & (data.num_of_genes >= 10)]\n",
    "print(data.shape)\n",
    "print(data.head())\n",
    "data.to_csv(\"./Datasets/c4.all.v6.2.entrez_term-gene_dataset.tsv\", index=False, sep =\"\\t\")"
   ]
  },
  {
   "cell_type": "code",
   "execution_count": 8,
   "metadata": {},
   "outputs": [],
   "source": [
    "from utils import cosine\n",
    "def compute_geneset_similarity(geneset, model, standardize = False):\n",
    "    pairs = [(i,j) for i in geneset for j in geneset]\n",
    "    sims = []\n",
    "    for pair in pairs:\n",
    "        sims.append(cosine(model[pair[0]],model[pair[1]]))\n",
    "    if standardize:\n",
    "        sims = standardize_similarity(sims)\n",
    "    return np.mean(sims)\n",
    "\n",
    "def standardize_similarity(sims):\n",
    "    avg = np.mean(sims)\n",
    "    sd = np.std(sims)\n",
    "    sims = (sims - avg) / sd\n",
    "    sims = (sims - min(sims))/(max(sims) - min(sims))\n",
    "    return sims\n",
    "\n",
    "def compute_dataset_similarity(datafile, model, standardize = False):\n",
    "    data = pd.read_csv(datafile, sep = \"\\t\")\n",
    "    pos_sims = []\n",
    "    neg_sims = []\n",
    "    for index,row in data.iterrows():\n",
    "        pos_set = row['pos_rel_genes'].split(\",\")\n",
    "        neg_set = row['neg_rel_genes'].split(\",\")\n",
    "        pos_sims.append(compute_geneset_similarity(pos_set, model = model, standardize = standardize))\n",
    "        neg_sims.append(compute_geneset_similarity(neg_set, model = model, standardize = standardize))\n",
    "    return np.mean(pos_sims), np.mean(neg_sims), np.mean((np.array(pos_sims) - np.array(neg_sims)) * 100) \n",
    "    \n",
    "\n"
   ]
  },
  {
   "cell_type": "code",
   "execution_count": 5,
   "metadata": {},
   "outputs": [
    {
     "name": "stdout",
     "output_type": "stream",
     "text": [
      "embedding loaded from ./WordVectors/Computed/word2vec_cbow.bin\n",
      "Time to load cbow embeddings in mins:  0.0034\n",
      "embedding loaded from ./WordVectors/Computed/word2vec_skipgram.bin\n",
      "Time to load skipgram embeddings in mins:  0.003\n"
     ]
    }
   ],
   "source": [
    "from gensim.models  import KeyedVectors, Word2Vec\n",
    "from utils import load_embedding\n",
    "from time import time\n",
    "\n",
    "t = time()\n",
    "w2v_cbow = load_embedding(\"./WordVectors/Computed/word2vec_cbow.bin\", binary=True)\n",
    "print(\"Time to load cbow embeddings in mins: \", round(((time() - t)/60.0),4))\n",
    "\n",
    "t = time()\n",
    "w2v_sg = load_embedding(\"./WordVectors/Computed/word2vec_skipgram.bin\", binary=True)\n",
    "print(\"Time to load skipgram embeddings in mins: \", round(((time() - t)/60.0),4))"
   ]
  },
  {
   "cell_type": "code",
   "execution_count": 15,
   "metadata": {},
   "outputs": [
    {
     "name": "stdout",
     "output_type": "stream",
     "text": [
      "[CBOW, C2] ===== > Avg pos sim: 0.4178\t Avg neg sim: 0.3270\t Diff: 9.0729%\n",
      "[CBOW, C4] ===== > Avg pos sim: 0.4305\t Avg neg sim: 0.3293\t Diff: 10.1182%\n"
     ]
    }
   ],
   "source": [
    "model = w2v_cbow\n",
    "avg_pos_sim, avg_neg_sim, perc_diff = compute_dataset_similarity(\"./Datasets/c2.all.v6.2.entrez_term-gene_dataset.tsv\", model=model, standardize=False)\n",
    "print(\"[CBOW, C2] ===== > Avg pos sim: {0:.4f}\\t Avg neg sim: {1:.4f}\\t Diff: {2:.4f}%\".format(avg_pos_sim, avg_neg_sim, perc_diff))\n",
    "avg_pos_sim, avg_neg_sim, perc_diff = compute_dataset_similarity(\"./Datasets/c4.all.v6.2.entrez_term-gene_dataset.tsv\", model=model, standardize=False)\n",
    "print(\"[CBOW, C4] ===== > Avg pos sim: {0:.4f}\\t Avg neg sim: {1:.4f}\\t Diff: {2:.4f}%\".format(avg_pos_sim, avg_neg_sim, perc_diff))"
   ]
  },
  {
   "cell_type": "code",
   "execution_count": 14,
   "metadata": {},
   "outputs": [
    {
     "name": "stdout",
     "output_type": "stream",
     "text": [
      "[SG, C2] ===== > Avg pos sim: 0.4247\t Avg neg sim: 0.3303\t Diff: 9.4422%\n",
      "[SG, C4] ===== > Avg pos sim: 0.4331\t Avg neg sim: 0.3324\t Diff: 10.0699%\n"
     ]
    }
   ],
   "source": [
    "model = w2v_sg\n",
    "avg_pos_sim, avg_neg_sim, perc_diff = compute_dataset_similarity(\"./Datasets/c2.all.v6.2.entrez_term-gene_dataset.tsv\", model=model, standardize=False)\n",
    "print(\"[SG, C2] ===== > Avg pos sim: {0:.4f}\\t Avg neg sim: {1:.4f}\\t Diff: {2:.4f}%\".format(avg_pos_sim, avg_neg_sim, perc_diff))\n",
    "avg_pos_sim, avg_neg_sim, perc_diff = compute_dataset_similarity(\"./Datasets/c4.all.v6.2.entrez_term-gene_dataset.tsv\", model=model, standardize=False)\n",
    "print(\"[SG, C4] ===== > Avg pos sim: {0:.4f}\\t Avg neg sim: {1:.4f}\\t Diff: {2:.4f}%\".format(avg_pos_sim, avg_neg_sim, perc_diff))"
   ]
  },
  {
   "cell_type": "code",
   "execution_count": 85,
   "metadata": {},
   "outputs": [],
   "source": [
    "def read_genes_from_file(filename):\n",
    "    genes = []\n",
    "    with open(filename, \"r\") as f:\n",
    "        genes = f.readlines()\n",
    "    f.close()\n",
    "    genes = [gene.strip() for gene in genes]\n",
    "    return genes\n"
   ]
  },
  {
   "cell_type": "code",
   "execution_count": 88,
   "metadata": {},
   "outputs": [],
   "source": [
    "collagen_genes = np.intersect1d(read_genes_from_file(\"./GeneLists/collagen_genes.txt\"), all_genes)\n",
    "m1m2_genes = np.intersect1d(read_genes_from_file(\"./GeneLists/m1m2_genes.txt\"), all_genes)\n",
    "fibrinogen_genes = np.intersect1d(read_genes_from_file(\"./GeneLists/fibrinogen_genes.txt\"), all_genes)\n",
    "muscle_reg_genes = np.intersect1d(read_genes_from_file(\"./GeneLists/muscle_regeneration_genes.txt\"), all_genes)\n",
    "neural_reg_genes = np.intersect1d(read_genes_from_file(\"./GeneLists/neural_regeneration_genes.txt\"), all_genes)"
   ]
  },
  {
   "cell_type": "code",
   "execution_count": 96,
   "metadata": {},
   "outputs": [
    {
     "name": "stdout",
     "output_type": "stream",
     "text": [
      "[CBOW, Collagens] ====> Avg Sim: {0: .2f} 0.547803\n",
      "[CBOW, Fibrigens] ====> Avg Sim: {0: .2f} 0.43907523\n",
      "[CBOW, M1/M2] ====> Avg Sim: {0: .2f} 0.49272108\n",
      "[CBOW, Muscle Reg] ====> Avg Sim: {0: .2f} 0.4087264\n",
      "[CBOW, Neural_reg] ====> Avg Sim: {0: .2f} 0.421225\n"
     ]
    }
   ],
   "source": [
    "model = w2v_cbow\n",
    "print(\"[CBOW, Collagens] ====> Avg Sim: {0: .2f}\", compute_geneset_similarity(collagen_genes, model, True))\n",
    "print(\"[CBOW, Fibrigens] ====> Avg Sim: {0: .2f}\", compute_geneset_similarity(fibrinogen_genes, model, True))\n",
    "print(\"[CBOW, M1/M2] ====> Avg Sim: {0: .2f}\", compute_geneset_similarity(m1m2_genes, model, True))\n",
    "print(\"[CBOW, Muscle Reg] ====> Avg Sim: {0: .2f}\", compute_geneset_similarity(muscle_reg_genes, model, True))\n",
    "print(\"[CBOW, Neural_reg] ====> Avg Sim: {0: .2f}\", compute_geneset_similarity(neural_reg_genes, model, True))"
   ]
  },
  {
   "cell_type": "code",
   "execution_count": 97,
   "metadata": {},
   "outputs": [
    {
     "name": "stdout",
     "output_type": "stream",
     "text": [
      "[CBOW, Collagens] ====> Avg Sim: {0: .2f} 0.5546585\n",
      "[CBOW, Fibrigens] ====> Avg Sim: {0: .2f} 0.37193477\n",
      "[CBOW, M1/M2] ====> Avg Sim: {0: .2f} 0.49427536\n",
      "[CBOW, Muscle Reg] ====> Avg Sim: {0: .2f} 0.4087264\n",
      "[CBOW, Neural_reg] ====> Avg Sim: {0: .2f} 0.37672463\n"
     ]
    }
   ],
   "source": [
    "model = w2v_sg\n",
    "print(\"[CBOW, Collagens] ====> Avg Sim: {0: .2f}\", compute_geneset_similarity(collagen_genes, model, True))\n",
    "print(\"[CBOW, Fibrigens] ====> Avg Sim: {0: .2f}\", compute_geneset_similarity(fibrinogen_genes, model, True))\n",
    "print(\"[CBOW, M1/M2] ====> Avg Sim: {0: .2f}\", compute_geneset_similarity(m1m2_genes, model, True))\n",
    "print(\"[CBOW, Muscle Reg] ====> Avg Sim: {0: .2f}\", compute_geneset_similarity(muscle_reg_genes, model, True))\n",
    "print(\"[CBOW, Neural_reg] ====> Avg Sim: {0: .2f}\", compute_geneset_similarity(neural_reg_genes, model, True))"
   ]
  }
 ],
 "metadata": {
  "interpreter": {
   "hash": "7c94c8a2b4a38d84c9d502ef75fc1564633a6cf3f568e3899ec7413ad0d1be19"
  },
  "kernelspec": {
   "display_name": "Python 3.9.7 ('venv': venv)",
   "language": "python",
   "name": "python3"
  },
  "language_info": {
   "codemirror_mode": {
    "name": "ipython",
    "version": 3
   },
   "file_extension": ".py",
   "mimetype": "text/x-python",
   "name": "python",
   "nbconvert_exporter": "python",
   "pygments_lexer": "ipython3",
   "version": "3.9.7"
  },
  "orig_nbformat": 4
 },
 "nbformat": 4,
 "nbformat_minor": 2
}
